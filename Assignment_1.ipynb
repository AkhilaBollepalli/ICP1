{
  "cells": [
    {
      "cell_type": "code",
      "source": [
        "#Inputting the string from the user\n",
        "initial_string = list(input(\"Input the string: \"))\n",
        "\n",
        "#Printing the list of characters taken from the user\n",
        "print(initial_string)\n",
        "\n",
        "#Removing first 2 characters from the string using slicing\n",
        "final_string = initial_string[:len(initial_string)-2]\n",
        "\n",
        "#Reversing the string and printing the final output as a string\n",
        "print(\"\".join(final_string[::-1]))"
      ],
      "metadata": {
        "id": "l0Xu_eML6Apt",
        "outputId": "fba8657b-7841-4bcc-94a4-c545791eddf9",
        "colab": {
          "base_uri": "https://localhost:8080/"
        }
      },
      "execution_count": 1,
      "outputs": [
        {
          "output_type": "stream",
          "name": "stdout",
          "text": [
            "Input the string: python\n",
            "['p', 'y', 't', 'h', 'o', 'n']\n",
            "htyp\n"
          ]
        }
      ]
    },
    {
      "cell_type": "markdown",
      "source": [
        "– Take two numbers from user and perform at least 4 arithmetic operations on them.\n"
      ],
      "metadata": {
        "id": "yyS-JW_7CHvD"
      }
    },
    {
      "cell_type": "code",
      "source": [
        "#Inputting 2 numbers from the user\n",
        "num1, num2 = map(int, input(\"Input 2 numbers seperating them with a space between them: \").split())\n",
        "\n",
        "#Adding the numbers\n",
        "print(\"Addition of \" + str(num1) + \" and \" + str(num2) + \" is \"+ str(num1 + num2))\n",
        "\n",
        "#Subtracting the numbers\n",
        "print(\"Subtraction of \" + str(num1) + \" and \" + str(num2) + \" is \"+ str(num1 - num2))\n",
        "\n",
        "#Multiplying the numbers\n",
        "print(\"Multiplication of \" + str(num1) + \" and \" + str(num2) + \" is \"+ str(num1 * num2))\n",
        "\n",
        "#Dividing the numbers\n",
        "print(\"Division of \" + str(num1) + \" and \" + str(num2) + \" is \"+ str(num1 // num2))\n",
        "\n",
        "#Modulo Division of the numbers\n",
        "print(\"Modulo Division of \" + str(num1) + \" and \" + str(num2) + \" is \"+ str(num1 % num2))"
      ],
      "metadata": {
        "id": "wuslOFDR8ipc",
        "outputId": "ee7144de-ebbf-4ff3-e9b2-797af6f3773a",
        "colab": {
          "base_uri": "https://localhost:8080/"
        }
      },
      "execution_count": null,
      "outputs": [
        {
          "output_type": "stream",
          "name": "stdout",
          "text": [
            "Input 2 numbers seperating them with a space between them: 2 5\n",
            "Addition of 2 and 5 is 7\n",
            "Subtraction of 2 and 5 is -3\n",
            "Multiplication of 2 and 5 is 10\n",
            "Division of 2 and 5 is 0\n",
            "Modulo Division of 2 and 5 is 2\n"
          ]
        }
      ]
    },
    {
      "cell_type": "markdown",
      "source": [
        ". Write a program that accepts a sentence and replace each occurrence of ‘python’ with ‘pythons’."
      ],
      "metadata": {
        "id": "m-YdlOJx86Y7"
      }
    },
    {
      "cell_type": "code",
      "source": [
        "#Inputting the string from the user\n",
        "input_string = input(\"Enter the string: \")\n",
        "\n",
        "#Replacing each occurrence of the word 'python' with 'pythons' using replace method\n",
        "output_string = input_string.replace(\"python\", \"pythons\")\n",
        "\n",
        "#Printing the final output\n",
        "print(output_string)"
      ],
      "metadata": {
        "id": "uzGMkn2Y86u2",
        "outputId": "1ef93045-cb73-4e68-99b1-66ba577fa036",
        "colab": {
          "base_uri": "https://localhost:8080/"
        }
      },
      "execution_count": null,
      "outputs": [
        {
          "output_type": "stream",
          "name": "stdout",
          "text": [
            "Enter the string: i love python\n",
            "i love pythons\n"
          ]
        }
      ]
    },
    {
      "cell_type": "markdown",
      "source": [
        "Use the if statement conditions to write a program to print the letter grade based on an input classscore. Use the\n",
        "grading scheme we are using in this class.\n"
      ],
      "metadata": {
        "id": "dwbSHRS18_QZ"
      }
    },
    {
      "cell_type": "code",
      "source": [
        "#Inputting the score\n",
        "score = int(input(\"Enter your score: \"))\n",
        "\n",
        "#Using if conditions to display the grade of the user\n",
        "if score>=90 and score<=100:\n",
        "  print(\"Grade: A\")\n",
        "elif score>=80 and score<=89:\n",
        "  print(\"Grade: B\")\n",
        "elif score>=70 and score<=79:\n",
        "  print(\"Grade: C\")\n",
        "elif score>=60 and score<=69:\n",
        "  print(\"Grade: D\")\n",
        "elif score<=59:\n",
        "  print(\"Grade: F\")"
      ],
      "metadata": {
        "id": "f7Y6lkl_8_nU",
        "outputId": "5f3c8bce-424b-45a2-d15d-61b6e9bce0b8",
        "colab": {
          "base_uri": "https://localhost:8080/"
        }
      },
      "execution_count": null,
      "outputs": [
        {
          "output_type": "stream",
          "name": "stdout",
          "text": [
            "Enter your score: 87\n",
            "Grade: B\n"
          ]
        }
      ]
    }
  ],
  "metadata": {
    "colab": {
      "toc_visible": true,
      "provenance": []
    },
    "kernelspec": {
      "display_name": "Python 3",
      "name": "python3"
    }
  },
  "nbformat": 4,
  "nbformat_minor": 0
}